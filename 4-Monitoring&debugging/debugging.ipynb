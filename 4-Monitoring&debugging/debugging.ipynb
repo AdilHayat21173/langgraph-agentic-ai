{
 "cells": [
  {
   "cell_type": "code",
   "execution_count": 10,
   "id": "4bff1089",
   "metadata": {},
   "outputs": [
    {
     "data": {
      "text/plain": [
       "True"
      ]
     },
     "execution_count": 10,
     "metadata": {},
     "output_type": "execute_result"
    }
   ],
   "source": [
    "from typing import Annotated\n",
    "from typing_extensions import TypedDict\n",
    "from langgraph.graph import END, START, add_messages\n",
    "from langgraph.graph.state import StateGraph\n",
    "from langgraph.prebuilt import ToolNode, tools_condition\n",
    "from langchain_core.tools import tool\n",
    "from langchain_core.messages import BaseMessage\n",
    "from langchain_groq import ChatGroq\n",
    "from IPython.display import Image, display\n",
    "import os\n",
    "from dotenv import load_dotenv\n",
    "\n",
    "load_dotenv()"
   ]
  },
  {
   "cell_type": "code",
   "execution_count": 12,
   "id": "a62a037f",
   "metadata": {},
   "outputs": [],
   "source": [
    "os.environ[\"GROQ_API_KEY\"] = os.getenv(\"Groq_API_KEY\")\n",
    "os.environ[\"langsmith_API_KEY\"] = os.getenv(\"LangSmith_API_KEY\")\n",
    "os.environ[\"LANGSMITH_TRACING\"] = \"true\"\n",
    "os.environ[\"LANGSMITH_PROJECT\"] = \"agenticlanggraph\""
   ]
  },
  {
   "cell_type": "code",
   "execution_count": 13,
   "id": "ccba8fbc",
   "metadata": {},
   "outputs": [],
   "source": [
    "# Initialize LLM\n",
    "llm = ChatGroq(model=\"deepseek-r1-distill-llama-70b\")\n"
   ]
  },
  {
   "cell_type": "code",
   "execution_count": 14,
   "id": "c2700ec0",
   "metadata": {},
   "outputs": [],
   "source": [
    "\n",
    "# Define State\n",
    "class State(TypedDict):\n",
    "    messages: Annotated[list[BaseMessage], add_messages]\n",
    "\n"
   ]
  },
  {
   "cell_type": "code",
   "execution_count": 15,
   "id": "4b350e05",
   "metadata": {},
   "outputs": [],
   "source": [
    "# Define tool\n",
    "@tool\n",
    "def add(a: int, b: int) -> int:\n",
    "    \"\"\"Add two numbers.\"\"\"\n",
    "    return a + b\n",
    "\n",
    "# Create tools list (not ToolNode yet)\n",
    "tools = [add]  # This should be a list of tools\n",
    "\n",
    "# Bind tools to LLM\n",
    "llm_with_tools = llm.bind_tools(tools)"
   ]
  },
  {
   "cell_type": "code",
   "execution_count": null,
   "id": "a0ea5ac9",
   "metadata": {},
   "outputs": [
    {
     "data": {
      "image/png": "[encoded data removed]",
      "text/plain": [
       "<IPython.core.display.Image object>"
      ]
     },
     "metadata": {},
     "output_type": "display_data"
    }
   ],
   "source": [
    "# Define the tool calling function\n",
    "def tool_calling_llm(state: State):\n",
    "    return {\"messages\": [llm_with_tools.invoke(state[\"messages\"])]}\n",
    "\n",
    "# Build the workflow graph\n",
    "graph = StateGraph(State)\n",
    "\n",
    "# Add nodes\n",
    "graph.add_node(\"tool_calling_llm\", tool_calling_llm)\n",
    "graph.add_node(\"tools\", ToolNode(tools))  # Now create ToolNode with the tools list\n",
    "\n",
    "# Add edges\n",
    "graph.add_edge(START, \"tool_calling_llm\")\n",
    "graph.add_conditional_edges(\n",
    "    \"tool_calling_llm\",\n",
    "    tools_condition,\n",
    ")\n",
    "graph.add_edge(\"tools\", END)\n",
    "\n",
    "# Compile the graph\n",
    "graphbuilder = graph.compile()\n",
    "\n",
    "# Display the graph\n",
    "display(Image(graphbuilder.get_graph().draw_mermaid_png()))"
   ]
  },
  {
   "cell_type": "code",
   "execution_count": 17,
   "id": "a09768f7",
   "metadata": {},
   "outputs": [
    {
     "name": "stdout",
     "output_type": "stream",
     "text": [
      "================================\u001b[1m Human Message \u001b[0m=================================\n",
      "\n",
      "What is the latest research on quantum computing?\n",
      "==================================\u001b[1m Ai Message \u001b[0m==================================\n",
      "\n",
      "Quantum computing is a rapidly evolving field, and there have been several significant advancements in recent years. Here are some of the latest developments and research areas in quantum computing as of 2023:\n",
      "\n",
      "### 1. **Quantum Processors and Hardware**\n",
      "   - **IBM Quantum**: IBM has been continuously advancing its quantum processors, with recent announcements including processors with over 1,000 qubits. IBM has also made strides in reducing error rates and improving coherence times.\n",
      "   - **Google Quantum**: Google has been working on its 72-qubit \"Quantum Supremacy\" processor and has demonstrated quantum supremacy in various experiments, showing that quantum computers can perform certain tasks exponentially faster than classical computers.\n",
      "   - **Rigetti Computing**: Rigetti has been developing its 128-qubit quantum processor and has made significant progress in hybrid quantum-classical computing.\n",
      "\n",
      "### 2. **Quantum Error Correction**\n",
      "   - Researchers have been making progress in quantum error correction, which is essential for large-scale quantum computing. Error-correcting codes, such as surface codes, have been tested and implemented on small-scale quantum processors.\n",
      "   - Companies like IBM and Google have demonstrated the ability to detect and correct errors in real-time, which is a critical step toward building reliable quantum computers.\n",
      "\n",
      "### 3. **Quantum Algorithms and Applications**\n",
      "   - **Quantum Machine Learning**: There has been significant research in developing quantum algorithms for machine learning tasks, such as k-means clustering and support vector machines. These algorithms have the potential to outperform classical machine learning methods for certain problems.\n",
      "   - **Cryptography**: Post-quantum cryptography is an active area of research, as quantum computers pose a threat to current cryptographic systems. Researchers are developing new cryptographic algorithms that are resistant to quantum attacks.\n",
      "   - **Optimization**: Quantum algorithms for optimization problems, such as the Quantum Approximate Optimization Algorithm (QAOA), have been explored for solving complex combinatorial optimization problems.\n",
      "\n",
      "### 4. **Quantum Networking and Communication**\n",
      "   - Quantum communication, including quantum key distribution (QKD), has seen advancements. Researchers have demonstrated QKD over long distances, which is crucial for secure communication networks.\n",
      "   - Quantum networking protocols are being developed to enable communication between different quantum processors and to build a quantum internet.\n",
      "\n",
      "### 5. **Topological Quantum Computing**\n",
      "   - Topological qubits, which are more robust against errors, have been a focus of research. Companies like Microsoft and academic institutions are actively exploring topological quantum computing as a potential path to scalable quantum computing.\n",
      "\n",
      "### 6. **Hybrid Quantum-Classical Systems**\n",
      "   - Hybrid systems that combine classical and quantum computing are being developed to leverage the strengths of both paradigms. These systems are particularly useful for near-term applications where quantum computers are not yet standalone.\n",
      "\n",
      "### 7. **Open-Source Quantum Software**\n",
      "   - Open-source quantum software frameworks, such as Qiskit (IBM), Cirq (Google), and Pennylane (Xanadu), have been gaining traction. These tools allow researchers and developers to experiment with quantum algorithms and protocols on real quantum hardware.\n",
      "\n",
      "### 8. **Quantum Computing in the Cloud**\n",
      "   - Cloud-based quantum computing services have become more accessible, allowing researchers and developers to access quantum processors remotely. This has democratized access to quantum computing resources.\n",
      "\n",
      "### 9. **Quantum Simulation**\n",
      "   - Quantum simulators are being used to study complex quantum systems that are difficult to model with classical computers. This has applications in fields like chemistry, materials science, and physics.\n",
      "\n",
      "### 10. **Ethical and Societal Implications**\n",
      "   - As quantum computing advances, there is growing discussion about the ethical implications, including the potential impact on cryptography, privacy, and the workforce. Researchers are exploring ways to ensure that quantum computing is developed responsibly.\n",
      "\n",
      "These advancements demonstrate the rapid progress being made in quantum computing, with contributions from academia, industry, and government labs. The field is expected to continue to evolve rapidly, with potential breakthroughs in areas like fault-tolerant quantum computing, practical quantum algorithms, and scalable quantum hardware.\n"
     ]
    }
   ],
   "source": [
    "messages = graphbuilder.invoke({\n",
    "    \"messages\": \"What is the latest research on quantum computing?\"\n",
    "})\n",
    "\n",
    "for m in messages['messages']:\n",
    "   m.pretty_print()"
   ]
  },
  {
   "cell_type": "code",
   "execution_count": 18,
   "id": "c0bd7408",
   "metadata": {},
   "outputs": [
    {
     "name": "stdout",
     "output_type": "stream",
     "text": [
      "================================\u001b[1m Human Message \u001b[0m=================================\n",
      "\n",
      "add 2 and 3\n",
      "==================================\u001b[1m Ai Message \u001b[0m==================================\n",
      "Tool Calls:\n",
      "  add (rve0y20pt)\n",
      " Call ID: rve0y20pt\n",
      "  Args:\n",
      "    a: 2\n",
      "    b: 3\n",
      "=================================\u001b[1m Tool Message \u001b[0m=================================\n",
      "Name: add\n",
      "\n",
      "5\n"
     ]
    }
   ],
   "source": [
    "messages = graphbuilder.invoke({\n",
    "    \"messages\": \"add 2 and 3\"\n",
    "})\n",
    "\n",
    "for m in messages['messages']:\n",
    "   m.pretty_print()"
   ]
  }
 ],
 "metadata": {
  "kernelspec": {
   "display_name": "AGENTICLANGGRAPH",
   "language": "python",
   "name": "python3"
  },
  "language_info": {
   "codemirror_mode": {
    "name": "ipython",
    "version": 3
   },
   "file_extension": ".py",
   "mimetype": "text/x-python",
   "name": "python",
   "nbconvert_exporter": "python",
   "pygments_lexer": "ipython3",
   "version": "3.11.6"
  }
 },
 "nbformat": 4,
 "nbformat_minor": 5
}
