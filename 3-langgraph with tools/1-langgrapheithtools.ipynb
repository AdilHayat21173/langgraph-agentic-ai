{
 "cells": [
  {
   "cell_type": "code",
   "execution_count": 1,
   "id": "c2055e5d",
   "metadata": {},
   "outputs": [],
   "source": [
    "#tools\n",
    "from langchain_community.tools import ArxivQueryRun,WikipediaQueryRun\n",
    "from langchain_community.utilities import ArxivAPIWrapper, WikipediaAPIWrapper\n"
   ]
  },
  {
   "cell_type": "code",
   "execution_count": 2,
   "id": "836ea39d",
   "metadata": {},
   "outputs": [
    {
     "name": "stdout",
     "output_type": "stream",
     "text": [
      "arxiv\n"
     ]
    }
   ],
   "source": [
    "api_wrapper=ArxivAPIWrapper()\n",
    "arxiv_tool=ArxivQueryRun(api_wrapper=api_wrapper,top_k=2,description=\"Search for papers on arxiv.org\")\n",
    "print(arxiv_tool.name)"
   ]
  },
  {
   "cell_type": "code",
   "execution_count": 3,
   "id": "8a16103b",
   "metadata": {},
   "outputs": [
    {
     "data": {
      "text/plain": [
       "'Published: 2023-05-23\\nTitle: Fast and energy-efficient non-volatile III-V-on-silicon photonic phase shifter based on memristors\\nAuthors: Zhuoran Fang, Bassem Tossoun, Antoine Descos, Di Liang, Xue Huang, Geza Kurczveil, Arka Majumdar, Raymond G. Beausoleil\\nSummary: Silicon photonics has evolved from lab research to commercial products in the\\npast decade as it plays an increasingly crucial role in data communication for\\nnext-generation data centers and high performance computing1. Recently,\\nprogrammable silicon photonics has also found new applications in quantum2 and\\nclassical 3 information processing. A key component of programmable silicon\\nphotonic integrated circuits (PICs) is the phase shifter, traditionally\\nrealized via the thermo-optic or plasma dispersion effect which are weak,\\nvolatile, and power hungry. A non-volatile phase shifter can circumvent these\\nlimitations by requiring zero power to maintain the switched phases. Previously\\nnon-volatile phase modulation was achieved via phase-change4 or ferroelectric\\nmaterials5, but the switching energy remains high (pico to nano joules) and the\\nspeed is slow (micro to milli seconds). Here, we report a non-volatile\\nIII-V-on-silicon photonic phase shifter based on HfO2 memristor with sub-pJ\\nswitching energy (~400fJ), representing over an order of magnitude improvement\\nin energy efficiency compared to the state of the art. The non-volatile phase\\nshifter can be switched reversibly using a single 100ns pulse and exhibits an\\nexcellent endurance over 800 cycles. This technology can enable future\\nenergy-efficient programmable PICs for data centers, optical neural networks,\\nand quantum information processing.\\n\\nPublished: 2011-04-21\\nTitle: Graphene quantum dots for valley-based quantum computing: A feasibility study\\nAuthors: G. Y. Wu, N. -Y. Lue, L. Chang\\nSummary: At the center of quantum computing1 realization is the physical\\nimplementation of qubits - two-state quantum information units. The rise of\\ngraphene2 has opened a new door to the implementation. Because graphene\\nelectrons simulate two-dimensional relativistic particles with two degenerate\\nand independent energy valleys,3 a novel degree of freedom (d.o.f.), namely,\\nthe valley state of an electron, emerges as a new information carrier.4 Here,\\nwe expand the Loss-DiVincenzo quantum dot (QD) approach in electron spin\\nqubits,5,6 and investigate the feasibility of double QD (DQD) structures in\\ngapful graphene as \"valley qubits\", with the logic 0 / 1 states represented by\\nthe \"valley\" singlet / triplet pair. This generalization is characterized by 1)\\nvalley relaxation time ~ O(ms), and 2) electric qubit manipulation on the time\\nscale ~ ns, based on the 1st-order \"relativistic effect\" unique in graphene. A\\npotential for valley-based quantum computing is present.\\n\\nPublished: 2020-02-22\\nTitle: Joint Transmission and Computing Scheduling for Status Update with Mobile Edge Computing\\nAuthors: Jie Gong, Qiaobin Kuang, Xiang Chen\\nSummary: Age of Information (AoI), defined as the time elapsed since the generation of\\nthe latest received update, is a promising performance metric to measure data\\nfreshness for real-time status monitoring. In many applications, status\\ninformation needs to be extracted through computing, which can be processed at\\nan edge server enabled by mobile edge computing (MEC). In this paper, we aim to\\nminimize the average AoI within a given deadline by jointly scheduling the\\ntransmissions and computations of a series of update packets with deterministic\\ntransmission and computing times. The main analytical results are summarized as\\nfollows. Firstly, the minimum deadline to guarantee the successful transmission\\nand computing of all packets is given. Secondly, a \\\\emph{no-wait computing}\\npolicy which intuitively attains the minimum AoI is introduced, and the\\nfeasibility condition of the policy is derived. Finally, a closed-form optimal\\nscheduling policy is obtained on the condition that the deadline exceeds a\\ncertain threshold. '"
      ]
     },
     "execution_count": 3,
     "metadata": {},
     "output_type": "execute_result"
    }
   ],
   "source": [
    "arxiv_tool.invoke(\"What is the latest research on quantum computing?\")"
   ]
  },
  {
   "cell_type": "code",
   "execution_count": 4,
   "id": "911c83c9",
   "metadata": {},
   "outputs": [
    {
     "name": "stdout",
     "output_type": "stream",
     "text": [
      "wikipedia\n"
     ]
    }
   ],
   "source": [
    "wiki_wrapper=WikipediaAPIWrapper()\n",
    "wiki_tool=WikipediaQueryRun(api_wrapper=wiki_wrapper,top_k=2,description=\"Search for articles on Wikipedia\")\n",
    "print(wiki_tool.name)\n"
   ]
  },
  {
   "cell_type": "code",
   "execution_count": 5,
   "id": "7223f885",
   "metadata": {},
   "outputs": [
    {
     "data": {
      "text/plain": [
       "'Page: Timeline of quantum computing and communication\\nSummary: This is a timeline of quantum computing and communication.\\n\\nPage: Institute for Quantum Computing\\nSummary: The Institute for Quantum Computing (IQC) is an affiliate scientific research institute of the University of Waterloo located in Waterloo, Ontario with a multidisciplinary approach to the field of quantum information processing. IQC was founded in 2002 primarily through a donation made by Mike Lazaridis and his wife Ophelia whose substantial donations have continued over the years.  The institute is now located in the Mike & Ophelia Lazaridis Quantum-Nano Centre and the Research Advancement Centre at the University of Waterloo.\\nIts executive director is physics professor Norbert Lütkenhaus and hosts researchers based in 7 departments across 3 faculties at the University of Waterloo. In addition to theoretical and experimental research on quantum computing, IQC also hosts academic conferences and workshops, short courses for undergraduate and high school students, and scientific outreach events including open houses and tours for the public.\\n\\nPage: Quantum computing\\nSummary: A quantum computer is a computer that exploits quantum mechanical phenomena. On small scales, physical matter exhibits properties of both particles and waves, and quantum computing takes advantage of this behavior using specialized hardware. Classical physics cannot explain the operation of these quantum devices, and a scalable quantum computer could perform some calculations exponentially faster than any modern \"classical\" computer. Theoretically a large-scale quantum computer could break some widely used encryption schemes and aid physicists in performing physical simulations; however, the current state of the art is largely experimental and impractical, with several obstacles to useful applications.\\nThe basic unit of information in quantum computing, the qubit (or \"quantum bit\"), serves the same function as the bit in classical computing. However, unlike a classical bit, which can be in one of two states (a binary), a qubit can exist in a superposition of its two \"basis\" states, a state that is in an abstract sense \"between\" the two basis states. When measuring a qubit, the result is a probabilistic output of a classical bit. If a quantum computer manipulates the qubit in a particular way, wave interference effects can amplify the desired measurement results. The design of quantum algorithms involves creating procedures that allow a quantum computer to perform calculations efficiently and quickly.\\nQuantum computers are not yet practical for real-world applications. Physically engineering high-quality qubits has proven to be challenging. If a physical qubit is not sufficiently isolated from its environment, it suffers from quantum decoherence, introducing noise into calculations. National governments have invested heavily in experimental research aimed at developing  scalable qubits with longer coherence times and lower error rates. Example implementations include superconductors (which isolate an electrical current by eliminating electrical resistance) and ion traps (which confine a single atomic particle using electromagnetic fields).\\nIn principle, a classical computer can solve the same computational problems as a quantum computer, given enough time. Quantum advantage comes in the form of time complexity rather than computability, and quantum complexity theory shows that some quantum algorithms are exponentially more efficient than the best-known classical algorithms. A large-scale quantum computer could in theory solve computational problems that are not solvable within a reasonable timeframe for a classical computer. This concept of additional ability has been called \"quantum supremacy\". While such claims have drawn significant attention to the discipline, near-term practical use cases remain limited.'"
      ]
     },
     "execution_count": 5,
     "metadata": {},
     "output_type": "execute_result"
    }
   ],
   "source": [
    "# Make sure wiki_tool is defined\n",
    "wiki_tool.invoke(\"What is the history of quantum computing?\")"
   ]
  },
  {
   "cell_type": "code",
   "execution_count": 10,
   "id": "59f1e217",
   "metadata": {},
   "outputs": [],
   "source": [
    "from dotenv import load_dotenv\n",
    "import os\n",
    "\n",
    "# If .env is in a different location, specify the path\n",
    "load_dotenv()  # or load_dotenv('/path/to/your/.env')\n",
    "\n",
    "# Add error checking\n",
    "groq_key = os.getenv(\"Groq_API_KEY\")\n",
    "tavily_key = os.getenv(\"TAVILY_API_KEY\")\n",
    "\n",
    "if groq_key is None:\n",
    "    print(\"Error: Groq_API_KEY not found in environment variables\")\n",
    "else:\n",
    "    os.environ[\"Groq_API_KEY\"] = groq_key\n",
    "\n",
    "if tavily_key is None:\n",
    "    print(\"Error: TAVILY_API_KEY not found in environment variables\")\n",
    "else:\n",
    "    os.environ[\"TAVILY_API_KEY\"] = tavily_key"
   ]
  },
  {
   "cell_type": "code",
   "execution_count": 11,
   "id": "d2b71b67",
   "metadata": {},
   "outputs": [],
   "source": [
    "from langchain_tavily import TavilySearch\n",
    "\n",
    "tavily = TavilySearch()"
   ]
  },
  {
   "cell_type": "code",
   "execution_count": 12,
   "id": "48bd45ba",
   "metadata": {},
   "outputs": [
    {
     "data": {
      "text/plain": [
       "{'query': 'What is the latest research on quantum computing?',\n",
       " 'follow_up_questions': None,\n",
       " 'answer': None,\n",
       " 'images': [],\n",
       " 'results': [{'url': 'https://phys.org/tags/quantum+computing/',\n",
       "   'title': 'Quantum Computing - latest research news and features - Phys.org',\n",
       "   'content': 'News on quantum computing · Improving randomness may be the key to more powerful quantum computers · Quantum computer simulates spontaneous symmetry breaking at',\n",
       "   'score': 0.78709817,\n",
       "   'raw_content': None},\n",
       "  {'url': 'https://www.sciencedaily.com/news/computers_math/quantum_computers/',\n",
       "   'title': 'Quantum Computers News - ScienceDaily',\n",
       "   'content': 'June 8, 2025 — A team of researchers has shown that even small-scale quantum computers can enhance machine learning performance, using a novel photonic quantum',\n",
       "   'score': 0.72814995,\n",
       "   'raw_content': None},\n",
       "  {'url': 'https://thequantuminsider.com/',\n",
       "   'title': 'The Quantum Insider: Quantum Computing News & Top Stories',\n",
       "   'content': 'Find the latest Quantum Computing news, data, market research, and insights. To stay up to date with the quantum market click here!',\n",
       "   'score': 0.7043437,\n",
       "   'raw_content': None},\n",
       "  {'url': 'https://research.ibm.com/quantum-computing',\n",
       "   'title': 'Quantum Computing - IBM Research',\n",
       "   'content': \"We're inventing what's next in quantum research. Explore our recent work, access unique toolkits, and discover the breadth of topics that matter to us.\",\n",
       "   'score': 0.5370662,\n",
       "   'raw_content': None},\n",
       "  {'url': 'https://news.mit.edu/topic/quantum-computing',\n",
       "   'title': 'Quantum computing | Massachusetts Institute of Technology',\n",
       "   'content': 'MIT physicists predict exotic form of matter with potential for quantum computing. New work suggests the ability to create fractionalized electrons known as',\n",
       "   'score': 0.467308,\n",
       "   'raw_content': None}],\n",
       " 'response_time': 2.88}"
      ]
     },
     "execution_count": 12,
     "metadata": {},
     "output_type": "execute_result"
    }
   ],
   "source": [
    "tavily.invoke(\"What is the latest research on quantum computing?\")"
   ]
  },
  {
   "cell_type": "code",
   "execution_count": 13,
   "id": "99073b0f",
   "metadata": {},
   "outputs": [],
   "source": [
    "tools=[\n",
    "    arxiv_tool,\n",
    "    wiki_tool,\n",
    "    tavily\n",
    "]"
   ]
  },
  {
   "cell_type": "code",
   "execution_count": 14,
   "id": "7f95b1b0",
   "metadata": {},
   "outputs": [],
   "source": [
    "from langchain_groq import ChatGroq\n",
    "\n",
    "llm=ChatGroq(model=\"deepseek-r1-distill-llama-70b\")\n",
    "\n",
    "\n"
   ]
  },
  {
   "cell_type": "code",
   "execution_count": 15,
   "id": "4ac6cb55",
   "metadata": {},
   "outputs": [],
   "source": [
    "#binding the tool with the llm \n",
    "llm_with_tools=llm.bind_tools(tools)"
   ]
  },
  {
   "cell_type": "code",
   "execution_count": 16,
   "id": "11e16ca5",
   "metadata": {},
   "outputs": [
    {
     "data": {
      "text/plain": [
       "AIMessage(content='', additional_kwargs={'reasoning_content': \"Okay, the user is asking about the latest research on quantum computing. I should use the arxiv tool to search for recent papers on this topic. Arxiv is a great resource for preprints in physics, computer science, and related fields. Since the user is interested in the latest research, I'll set the time range to the past week to get the most recent submissions. That way, the results will be up-to-date and relevant. I'll structure the tool call with the query and the appropriate time range parameter.\\n\", 'tool_calls': [{'id': '1r2e6dqq9', 'function': {'arguments': '{\"query\":\"quantum computing\",\"time_range\":\"week\"}', 'name': 'arxiv'}, 'type': 'function'}]}, response_metadata={'token_usage': {'completion_tokens': 136, 'prompt_tokens': 1155, 'total_tokens': 1291, 'completion_time': 0.541499406, 'prompt_time': 0.090467092, 'queue_time': 0.09306551099999999, 'total_time': 0.631966498}, 'model_name': 'deepseek-r1-distill-llama-70b', 'system_fingerprint': 'fp_1bbe7845ec', 'finish_reason': 'tool_calls', 'logprobs': None}, id='run--fb860771-4d0b-468e-b251-0acb40355ef3-0', tool_calls=[{'name': 'arxiv', 'args': {'query': 'quantum computing', 'time_range': 'week'}, 'id': '1r2e6dqq9', 'type': 'tool_call'}], usage_metadata={'input_tokens': 1155, 'output_tokens': 136, 'total_tokens': 1291})"
      ]
     },
     "execution_count": 16,
     "metadata": {},
     "output_type": "execute_result"
    }
   ],
   "source": [
    "llm_with_tools.invoke(\"What is the latest research on quantum computing?\")"
   ]
  },
  {
   "cell_type": "markdown",
   "id": "e6aac972",
   "metadata": {},
   "source": [
    "## workflow"
   ]
  },
  {
   "cell_type": "code",
   "execution_count": 17,
   "id": "958f42cc",
   "metadata": {},
   "outputs": [],
   "source": [
    "from typing_extensions import TypedDict\n",
    "from langchain_core.messages import AnyMessage\n",
    "from typing import Annotated \n",
    "from langgraph.graph.message import add_messages\n"
   ]
  },
  {
   "cell_type": "code",
   "execution_count": 18,
   "id": "ac41811b",
   "metadata": {},
   "outputs": [],
   "source": [
    "class State(TypedDict):\n",
    "    messages: Annotated[list[AnyMessage], add_messages]\n",
    "    "
   ]
  },
  {
   "cell_type": "code",
   "execution_count": 19,
   "id": "ba1cbfb1",
   "metadata": {},
   "outputs": [],
   "source": [
    "from IPython.display import Image, display\n",
    "from langgraph.graph import StateGraph, START, END\n",
    "from langgraph.prebuilt import (ToolNode,tools_condition)"
   ]
  },
  {
   "cell_type": "code",
   "execution_count": 20,
   "id": "6105a99d",
   "metadata": {},
   "outputs": [],
   "source": [
    "def tool_calling_llm(state:State):\n",
    "    return {\"messages\":[llm_with_tools.invoke(state[\"messages\"])]}\n",
    "            "
   ]
  },
  {
   "cell_type": "code",
   "execution_count": 21,
   "id": "8b0a918e",
   "metadata": {},
   "outputs": [
    {
     "data": {
      "image/png": "[encoded data removed]",
      "text/plain": [
       "<IPython.core.display.Image object>"
      ]
     },
     "metadata": {},
     "output_type": "display_data"
    }
   ],
   "source": [
    "# Build Build the the workflow graph workfl\n",
    "graph = StateGraph(State)\n",
    "\n",
    "graph.add_node(\"tool_calling_llm\", tool_calling_llm)\n",
    "graph.add_node(\"tools\", ToolNode(tools))\n",
    "\n",
    "#Edges\n",
    "\n",
    "graph.add_edge(START, \"tool_calling_llm\")\n",
    "graph.add_conditional_edges(\n",
    "    \"tool_calling_llm\",\n",
    "    tools_condition,\n",
    "    )\n",
    "\n",
    "graph.add_edge(\"tools\", END)\n",
    "\n",
    "graphbuilder=graph.compile()\n",
    "\n",
    "display(Image(graphbuilder.get_graph().draw_mermaid_png()))\n"
   ]
  },
  {
   "cell_type": "code",
   "execution_count": 22,
   "id": "bd1e9480",
   "metadata": {},
   "outputs": [
    {
     "name": "stdout",
     "output_type": "stream",
     "text": [
      "================================\u001b[1m Human Message \u001b[0m=================================\n",
      "\n",
      "What is the latest research on quantum computing?\n",
      "==================================\u001b[1m Ai Message \u001b[0m==================================\n",
      "Tool Calls:\n",
      "  arxiv (merxgs330)\n",
      " Call ID: merxgs330\n",
      "  Args:\n",
      "    query: quantum computing latest research\n",
      "=================================\u001b[1m Tool Message \u001b[0m=================================\n",
      "Name: arxiv\n",
      "\n",
      "Published: 2023-01-27\n",
      "Title: A Living Review of Quantum Computing for Plasma Physics\n",
      "Authors: Óscar Amaro, Diogo Cruz\n",
      "Summary: Quantum Computing promises accelerated simulation of certain classes of\n",
      "problems, in particular in plasma physics. Given the nascent interest in\n",
      "applying quantum computing techniques to study plasma systems, a compendium of\n",
      "the relevant literature would be most useful. As a novel field, new results are\n",
      "common, and it is important for researchers to stay up-to-date on the latest\n",
      "developments. With this in mind, the goal of this document is to provide a\n",
      "regularly up-to-date and thorough list of citations for those developing and\n",
      "applying these quantum computing approaches to experimental or theoretical work\n",
      "in plasma physics. As a living document, it will be updated as often as\n",
      "possible to incorporate the latest developments. References are grouped by\n",
      "topic, both in itemized format and through the use of tags. We provide\n",
      "instructions on how to participate, and suggestions are welcome.\n",
      "\n",
      "Published: 2025-02-13\n",
      "Title: Quantum Software Engineering and Potential of Quantum Computing in Software Engineering Research: A Review\n",
      "Authors: Ashis Kumar Mandal, Md Nadim, Chanchal K. Roy, Banani Roy, Kevin A. Schneider\n",
      "Summary: Research in software engineering is essential for improving development\n",
      "practices, leading to reliable and secure software. Leveraging the principles\n",
      "of quantum physics, quantum computing has emerged as a new computational\n",
      "paradigm that offers significant advantages over classical computing. As\n",
      "quantum computing progresses rapidly, its potential applications across various\n",
      "fields are becoming apparent. In software engineering, many tasks involve\n",
      "complex computations where quantum computers can greatly speed up the\n",
      "development process, leading to faster and more efficient solutions. With the\n",
      "growing use of quantum-based applications in different fields, quantum software\n",
      "engineering (QSE) has emerged as a discipline focused on designing, developing,\n",
      "and optimizing quantum software for diverse applications. This paper aims to\n",
      "review the role of quantum computing in software engineering research and the\n",
      "latest developments in QSE. To our knowledge, this is the first comprehensive\n",
      "review on this topic. We begin by introducing quantum computing, exploring its\n",
      "fundamental concepts, and discussing its potential applications in software\n",
      "engineering. We also examine various QSE techniques that expedite software\n",
      "development. Finally, we discuss the opportunities and challenges in\n",
      "quantum-driven software engineering and QSE. Our study reveals that quantum\n",
      "machine learning (QML) and quantum optimization have substantial potential to\n",
      "address classical software engineering tasks, though this area is still\n",
      "limited. Current QSE tools and techniques lack robustness and maturity,\n",
      "indicating a need for more focus. One of the main challenges is that quantum\n",
      "computing has yet to reach its full potential.\n",
      "\n",
      "Published: 2023-08-21\n",
      "Title: Hybrid classical-quantum computing: are we forgetting the classical part in the binomial?\n",
      "Authors: Esther Villar-Rodriguez, Aitor Gomez-Tejedor, Eneko Osaba\n",
      "Summary: The expectations arising from the latest achievements in the quantum\n",
      "computing field are causing that researchers coming from classical artificial\n",
      "intelligence to be fascinated by this new paradigm. In turn, quantum computing,\n",
      "on the road towards usability, needs classical procedures. Hybridization is, in\n",
      "these circumstances, an indispensable step but can also be seen as a promising\n",
      "new avenue to get the most from both computational worlds. Nonetheless, hybrid\n",
      "approaches have now and will have in the future many challenges to face, which,\n",
      "if ignored, will threaten the viability or attractiveness of quantum computing\n",
      "for real-world applications. To identify them and pose pertinent questions, a\n",
      "proper characterization of the hybrid quantum computing field, and especially\n",
      "hybrid solvers, is compulsory. With this motivation in m\n"
     ]
    }
   ],
   "source": [
    "messages = graphbuilder.invoke({\n",
    "    \"messages\": \"What is the latest research on quantum computing?\"\n",
    "})\n",
    "\n",
    "for m in messages['messages']:\n",
    "   m.pretty_print()"
   ]
  },
  {
   "cell_type": "code",
   "execution_count": 23,
   "id": "243a2334",
   "metadata": {},
   "outputs": [
    {
     "name": "stdout",
     "output_type": "stream",
     "text": [
      "================================\u001b[1m Human Message \u001b[0m=================================\n",
      "\n",
      "What is the latest research on quantum computing and what  is Machine learning?\n",
      "==================================\u001b[1m Ai Message \u001b[0m==================================\n",
      "Tool Calls:\n",
      "  arxiv (9apgyzsyv)\n",
      " Call ID: 9apgyzsyv\n",
      "  Args:\n",
      "    query: quantum computing\n",
      "=================================\u001b[1m Tool Message \u001b[0m=================================\n",
      "Name: arxiv\n",
      "\n",
      "Published: 2022-08-01\n",
      "Title: The Rise of Quantum Internet Computing\n",
      "Authors: Seng W. Loke\n",
      "Summary: This article highlights quantum Internet computing as referring to\n",
      "distributed quantum computing over the quantum Internet, analogous to\n",
      "(classical) Internet computing involving (classical) distributed computing over\n",
      "the (classical) Internet. Relevant to quantum Internet computing would be areas\n",
      "of study such as quantum protocols for distributed nodes using quantum\n",
      "information for computations, quantum cloud computing, delegated verifiable\n",
      "blind or private computing, non-local gates, and distributed quantum\n",
      "applications, over Internet-scale distances.\n",
      "\n",
      "Published: 2000-03-31\n",
      "Title: Unconventional Quantum Computing Devices\n",
      "Authors: Seth Lloyd\n",
      "Summary: This paper investigates a variety of unconventional quantum computation\n",
      "devices, including fermionic quantum computers and computers that exploit\n",
      "nonlinear quantum mechanics. It is shown that unconventional quantum computing\n",
      "devices can in principle compute some quantities more rapidly than\n",
      "`conventional' quantum computers.\n",
      "\n",
      "Published: 2013-11-20\n",
      "Title: Geometrical perspective on quantum states and quantum computation\n",
      "Authors: Zeqian Chen\n",
      "Summary: We interpret quantum computing as a geometric evolution process by\n",
      "reformulating finite quantum systems via Connes' noncommutative geometry. In\n",
      "this formulation, quantum states are represented as noncommutative connections,\n",
      "while gauge transformations on the connections play a role of unitary quantum\n",
      "operations. Thereby, a geometrical model for quantum computation is presented,\n",
      "which is equivalent to the quantum circuit model. This result shows a geometric\n",
      "way of realizing quantum computing and as such, provides an alternative\n",
      "proposal of building a quantum computer.\n"
     ]
    }
   ],
   "source": [
    "messages = graphbuilder.invoke({\n",
    "    \"messages\": \"What is the latest research on quantum computing and what  is Machine learning?\"\n",
    "})\n",
    "\n",
    "for m in messages['messages']:\n",
    "   m.pretty_print()"
   ]
  },
  {
   "cell_type": "code",
   "execution_count": 24,
   "id": "18ad2ce4",
   "metadata": {},
   "outputs": [
    {
     "name": "stdout",
     "output_type": "stream",
     "text": [
      "================================\u001b[1m Human Message \u001b[0m=================================\n",
      "\n",
      "my name is Adil Hayat\n",
      "==================================\u001b[1m Ai Message \u001b[0m==================================\n",
      "\n",
      "Thank you for sharing your name, Adil Hayat! How can I assist you today?\n"
     ]
    }
   ],
   "source": [
    "messages = graphbuilder.invoke({\n",
    "    \"messages\": \"my name is Adil Hayat\"\n",
    "})\n",
    "\n",
    "for m in messages['messages']:\n",
    "   m.pretty_print()"
   ]
  },
  {
   "cell_type": "markdown",
   "id": "1a95e23a",
   "metadata": {},
   "source": [
    "# Second diagram "
   ]
  },
  {
   "cell_type": "code",
   "execution_count": 25,
   "id": "4d036669",
   "metadata": {},
   "outputs": [
    {
     "data": {
      "image/png": "[encoded data removed]",
      "text/plain": [
       "<IPython.core.display.Image object>"
      ]
     },
     "metadata": {},
     "output_type": "display_data"
    }
   ],
   "source": [
    "# Build Build the the workflow graph workfl\n",
    "graph = StateGraph(State)\n",
    "\n",
    "graph.add_node(\"tool_calling_llm\", tool_calling_llm)\n",
    "graph.add_node(\"tools\", ToolNode(tools))\n",
    "\n",
    "#Edges\n",
    "\n",
    "graph.add_edge(START, \"tool_calling_llm\")\n",
    "graph.add_conditional_edges(\n",
    "    \"tool_calling_llm\",\n",
    "    tools_condition,\n",
    "    )\n",
    "\n",
    "graph.add_edge(\"tools\", \"tool_calling_llm\")\n",
    "\n",
    "graphbuilder1=graph.compile()\n",
    "\n",
    "display(Image(graphbuilder1.get_graph().draw_mermaid_png()))\n"
   ]
  },
  {
   "cell_type": "code",
   "execution_count": 26,
   "id": "7059ff1b",
   "metadata": {},
   "outputs": [
    {
     "name": "stdout",
     "output_type": "stream",
     "text": [
      "================================\u001b[1m Human Message \u001b[0m=================================\n",
      "\n",
      "What is the latest research on quantum computing and what  is Machine learning?\n",
      "==================================\u001b[1m Ai Message \u001b[0m==================================\n",
      "Tool Calls:\n",
      "  arxiv (z1nrgnsj4)\n",
      " Call ID: z1nrgnsj4\n",
      "  Args:\n",
      "    query: latest research quantum computing machine learning\n",
      "=================================\u001b[1m Tool Message \u001b[0m=================================\n",
      "Name: arxiv\n",
      "\n",
      "Published: 2025-02-03\n",
      "Title: Quantum Machine Learning: A Hands-on Tutorial for Machine Learning Practitioners and Researchers\n",
      "Authors: Yuxuan Du, Xinbiao Wang, Naixu Guo, Zhan Yu, Yang Qian, Kaining Zhang, Min-Hsiu Hsieh, Patrick Rebentrost, Dacheng Tao\n",
      "Summary: This tutorial intends to introduce readers with a background in AI to quantum\n",
      "machine learning (QML) -- a rapidly evolving field that seeks to leverage the\n",
      "power of quantum computers to reshape the landscape of machine learning. For\n",
      "self-consistency, this tutorial covers foundational principles, representative\n",
      "QML algorithms, their potential applications, and critical aspects such as\n",
      "trainability, generalization, and computational complexity. In addition,\n",
      "practical code demonstrations are provided in https://qml-tutorial.github.io/\n",
      "to illustrate real-world implementations and facilitate hands-on learning.\n",
      "Together, these elements offer readers a comprehensive overview of the latest\n",
      "advancements in QML. By bridging the gap between classical machine learning and\n",
      "quantum computing, this tutorial serves as a valuable resource for those\n",
      "looking to engage with QML and explore the forefront of AI in the quantum era.\n",
      "\n",
      "Published: 2022-02-21\n",
      "Title: Human-in-the-loop Machine Learning: A Macro-Micro Perspective\n",
      "Authors: Jiangtao Wang, Bin Guo, Liming Chen\n",
      "Summary: Though technical advance of artificial intelligence and machine learning has\n",
      "enabled many promising intelligent systems, many computing tasks are still not\n",
      "able to be fully accomplished by machine intelligence. Motivated by the\n",
      "complementary nature of human and machine intelligence, an emerging trend is to\n",
      "involve humans in the loop of machine learning and decision-making. In this\n",
      "paper, we provide a macro-micro review of human-in-the-loop machine learning.\n",
      "We first describe major machine learning challenges which can be addressed by\n",
      "human intervention in the loop. Then we examine closely the latest research and\n",
      "findings of introducing humans into each step of the lifecycle of machine\n",
      "learning. Finally, we analyze current research gaps and point out future\n",
      "research directions.\n",
      "\n",
      "Published: 2025-02-04\n",
      "Title: Generalization Error Bound for Quantum Machine Learning in NISQ Era -- A Survey\n",
      "Authors: Bikram Khanal, Pablo Rivas, Arun Sanjel, Korn Sooksatra, Ernesto Quevedo, Alejandro Rodriguez\n",
      "Summary: Despite the mounting anticipation for the quantum revolution, the success of\n",
      "Quantum Machine Learning (QML) in the Noisy Intermediate-Scale Quantum (NISQ)\n",
      "era hinges on a largely unexplored factor: the generalization error bound, a\n",
      "cornerstone of robust and reliable machine learning models. Current QML\n",
      "research, while exploring novel algorithms and applications extensively, is\n",
      "predominantly situated in the context of noise-free, ideal quantum computers.\n",
      "However, Quantum Circuit (QC) operations in NISQ-era devices are susceptible to\n",
      "various noise sources and errors. In this article, we conduct a Systematic\n",
      "Mapping Study (SMS) to explore the state-of-the-art generalization bound for\n",
      "supervised QML in NISQ-era and analyze the latest practices in the field. Our\n",
      "study systematically summarizes the existing computational platforms with\n",
      "quantum hardware, datasets, optimization techniques, and the common properties\n",
      "of the bounds found in the literature. We further present the performance\n",
      "accuracy of various approaches in classical benchmark datasets like the MNIST\n",
      "and IRIS datasets. The SMS also highlights the limitations and challenges in\n",
      "QML in the NISQ era and discusses future research directions to advance the\n",
      "field. Using a detailed Boolean operators query in five reliable indexers, we\n",
      "collected 544 papers and filtered them to a small set of 37 relevant articles.\n",
      "This filtration was done following the best practice of SMS with well-defined\n",
      "research questions and inclusion and exclusion criteria.\n",
      "==================================\u001b[1m Ai Message \u001b[0m==================================\n",
      "\n",
      "The latest research on quantum computing and machine learning, particularly in the field of quantum machine learning (QML), focuses on leveraging quantum computers to enhance machine learning algorithms and address challenges that classical computers struggle with. Here's a summary of the current state and future directions:\n",
      "\n",
      "### Key Insights:\n",
      "1. **Quantum Machine Learning (QML):**\n",
      "   - QML aims to utilize quantum computing to improve machine learning by potentially speeding up certain calculations and handling larger datasets more efficiently than classical computers.\n",
      "\n",
      "2. **Challenges:**\n",
      "   - Quantum computers are prone to quantum noise and error rates, which can affect the reliability of machine learning models. Researchers are developing robust algorithms and error correction techniques to mitigate these issues.\n",
      "\n",
      "3. **Applications:**\n",
      "   - Current applications explore areas like optimization problems, image recognition, and natural language processing. However, practical implementations are still in early stages.\n",
      "\n",
      "4. **Algorithms and Techniques:**\n",
      "   - Specific algorithms such as quantum support vector machines and quantum k-means are being developed. These leverage quantum parallelism and entanglement to potentially outperform classical counterparts.\n",
      "\n",
      "5. **Software and Hardware:**\n",
      "   - Software tools and frameworks are emerging, but many are still in development. Hardware limitations, such as small-scale and noisy quantum computers, currently restrict practical implementations.\n",
      "\n",
      "6. **Terminology and Concepts:**\n",
      "   - Understanding quantum concepts like qubits, superposition, and entanglement is crucial. Terms like \"quantum supremacy\" and \"NISQ era\" refer to the current state of quantum computing and its challenges.\n",
      "\n",
      "7. **Future Directions:**\n",
      "   - Research is focused on overcoming noise and error correction, developing hybrid algorithms that combine quantum and classical computing, and exploring theoretical models alongside practical experiments on quantum hardware.\n",
      "\n",
      "8. **Resources:**\n",
      "   - Recent papers and review articles on platforms like arXiv and Google Scholar provide comprehensive overviews and summaries of the field's progress and challenges.\n",
      "\n",
      "In summary, while quantum machine learning holds promise for advancing machine learning capabilities, the field is still navigating significant technical challenges. Ongoing research aims to enhance algorithms, improve hardware, and explore practical applications, setting the stage for potential breakthroughs in the future.\n"
     ]
    }
   ],
   "source": [
    "messages = graphbuilder1.invoke({\n",
    "    \"messages\": \"What is the latest research on quantum computing and what  is Machine learning?\"\n",
    "})\n",
    "\n",
    "for m in messages['messages']:\n",
    "   m.pretty_print()"
   ]
  },
  {
   "cell_type": "code",
   "execution_count": 28,
   "id": "1c7b4339",
   "metadata": {},
   "outputs": [
    {
     "name": "stdout",
     "output_type": "stream",
     "text": [
      "================================\u001b[1m Human Message \u001b[0m=================================\n",
      "\n",
      "my name is Adil Hayat  and give me the research on machine learning ?\n",
      "==================================\u001b[1m Ai Message \u001b[0m==================================\n",
      "Tool Calls:\n",
      "  arxiv (b92rk212r)\n",
      " Call ID: b92rk212r\n",
      "  Args:\n",
      "    query: machine learning\n",
      "=================================\u001b[1m Tool Message \u001b[0m=================================\n",
      "Name: arxiv\n",
      "\n",
      "Published: 2019-09-08\n",
      "Title: Lecture Notes: Optimization for Machine Learning\n",
      "Authors: Elad Hazan\n",
      "Summary: Lecture notes on optimization for machine learning, derived from a course at\n",
      "Princeton University and tutorials given in MLSS, Buenos Aires, as well as\n",
      "Simons Foundation, Berkeley.\n",
      "\n",
      "Published: 2018-11-11\n",
      "Title: An Optimal Control View of Adversarial Machine Learning\n",
      "Authors: Xiaojin Zhu\n",
      "Summary: I describe an optimal control view of adversarial machine learning, where the\n",
      "dynamical system is the machine learner, the input are adversarial actions, and\n",
      "the control costs are defined by the adversary's goals to do harm and be hard\n",
      "to detect. This view encompasses many types of adversarial machine learning,\n",
      "including test-item attacks, training-data poisoning, and adversarial reward\n",
      "shaping. The view encourages adversarial machine learning researcher to utilize\n",
      "advances in control theory and reinforcement learning.\n",
      "\n",
      "Published: 2017-07-16\n",
      "Title: Minimax deviation strategies for machine learning and recognition with short learning samples\n",
      "Authors: Michail Schlesinger, Evgeniy Vodolazskiy\n",
      "Summary: The article is devoted to the problem of small learning samples in machine\n",
      "learning. The flaws of maximum likelihood learning and minimax learning are\n",
      "looked into and the concept of minimax deviation learning is introduced that is\n",
      "free of those flaws.\n"
     ]
    }
   ],
   "source": [
    "messages = graphbuilder.invoke({\n",
    "    \"messages\": \"my name is Adil Hayat  and give me the research on machine learning ?\"\n",
    "})\n",
    "\n",
    "for m in messages['messages']:\n",
    "   m.pretty_print()"
   ]
  },
  {
   "cell_type": "code",
   "execution_count": null,
   "id": "87cf82c0",
   "metadata": {},
   "outputs": [],
   "source": []
  },
  {
   "cell_type": "code",
   "execution_count": 29,
   "id": "0791a96e",
   "metadata": {},
   "outputs": [
    {
     "name": "stdout",
     "output_type": "stream",
     "text": [
      "================================\u001b[1m Human Message \u001b[0m=================================\n",
      "\n",
      "what is my name \n",
      "==================================\u001b[1m Ai Message \u001b[0m==================================\n",
      "\n",
      "I can't access personal information, but feel free to share if you'd like!\n"
     ]
    }
   ],
   "source": [
    "messages = graphbuilder.invoke({\n",
    "    \"messages\": \"what is my name \"\n",
    "})\n",
    "\n",
    "for m in messages['messages']:\n",
    "   m.pretty_print()"
   ]
  },
  {
   "cell_type": "markdown",
   "id": "b0ad1507",
   "metadata": {},
   "source": [
    "## ADD the Memory "
   ]
  },
  {
   "cell_type": "code",
   "execution_count": 45,
   "id": "daab3e3d",
   "metadata": {},
   "outputs": [
    {
     "data": {
      "image/png": "[encoded data removed]",
      "text/plain": [
       "<IPython.core.display.Image object>"
      ]
     },
     "metadata": {},
     "output_type": "display_data"
    }
   ],
   "source": [
    "from langgraph.checkpoint.memory import MemorySaver\n",
    "\n",
    "memory=MemorySaver()\n",
    "# Build Build the the workflow graph workflow\n",
    "graph = StateGraph(State)\n",
    "\n",
    "\n",
    "graph.add_node(\"tool_calling_llm\", tool_calling_llm)\n",
    "graph.add_node(\"tools\", ToolNode(tools))\n",
    "\n",
    "#Edges\n",
    "\n",
    "graph.add_edge(START, \"tool_calling_llm\")\n",
    "graph.add_conditional_edges(\n",
    "    \"tool_calling_llm\",\n",
    "    tools_condition,\n",
    "    )\n",
    "\n",
    "graph.add_edge(\"tools\", \"tool_calling_llm\")\n",
    "\n",
    "graphbuilder1=graph.compile(checkpointer=memory)\n",
    "\n",
    "display(Image(graphbuilder1.get_graph().draw_mermaid_png()))\n"
   ]
  },
  {
   "cell_type": "code",
   "execution_count": 46,
   "id": "836056d5",
   "metadata": {},
   "outputs": [],
   "source": [
    "config = {\"configurable\": {\"thread_id\": \"1\"}}\n",
    "\n",
    "response = graphbuilder1.invoke(\n",
    "    {\n",
    "        \"messages\": \"my name is Adil hayat?\"\n",
    "    },\n",
    "    config=config\n",
    ")\n"
   ]
  },
  {
   "cell_type": "code",
   "execution_count": 47,
   "id": "d7bf8594",
   "metadata": {},
   "outputs": [
    {
     "data": {
      "text/plain": [
       "\"It seems like you might be looking for information about yourself or someone else named Adil Hayat. Could you clarify what you're seeking? For example, are you looking for professional information, personal details, or something else?\""
      ]
     },
     "execution_count": 47,
     "metadata": {},
     "output_type": "execute_result"
    }
   ],
   "source": [
    "response['messages'][-1].content"
   ]
  },
  {
   "cell_type": "code",
   "execution_count": 48,
   "id": "857fda11",
   "metadata": {},
   "outputs": [],
   "source": [
    "response = graphbuilder1.invoke(\n",
    "    {\n",
    "        \"messages\": \"what is my name ?\"\n",
    "    },\n",
    "    config=config\n",
    ")\n"
   ]
  },
  {
   "cell_type": "code",
   "execution_count": 51,
   "id": "19293eac",
   "metadata": {},
   "outputs": [
    {
     "name": "stdout",
     "output_type": "stream",
     "text": [
      "I don't have access to personal information, including your name. If you're looking for your name associated with this chat or any other platform, you may need to check your account settings or contact the support team for assistance. Let me know if you have any other questions!\n"
     ]
    }
   ],
   "source": [
    "print(response['messages'][-1].content)"
   ]
  },
  {
   "cell_type": "code",
   "execution_count": 56,
   "id": "7eb56f95",
   "metadata": {},
   "outputs": [
    {
     "data": {
      "image/png": "[encoded data removed]",
      "text/plain": [
       "<IPython.core.display.Image object>"
      ]
     },
     "metadata": {},
     "output_type": "display_data"
    },
    {
     "name": "stdout",
     "output_type": "stream",
     "text": [
      "Alternative approach with conversation history:\n",
      "First response:\n",
      "Hello Engr Adil Hayat! Thank you for introducing yourself. I've noted your name and will address you accordingly in our conversation. How can I assist you today?\n",
      "\n",
      "------------------------------\n",
      "\n",
      "Second response:\n",
      "Hello Engr Adil Hayat! Your name is Engr Adil Hayat. How can I assist you today?\n",
      "\n",
      "------------------------------\n",
      "\n",
      "Full conversation history:\n",
      "Message 1 (HumanMessage): Hi, my name is Engr Adil Hayat. Please remember this.\n",
      "Message 2 (AIMessage): Hello Engr Adil Hayat! Thank you for introducing yourself. I've noted your name and will address you accordingly in our conversation. How can I assist you today?\n",
      "Message 3 (HumanMessage): What is my name?\n",
      "Message 4 (AIMessage): Hello Engr Adil Hayat! Your name is Engr Adil Hayat. How can I assist you today?\n"
     ]
    }
   ],
   "source": [
    "from langgraph.checkpoint.memory import MemorySaver\n",
    "from langchain_core.messages import HumanMessage, AIMessage\n",
    "from langgraph.graph import StateGraph, START\n",
    "from langgraph.prebuilt import ToolNode, tools_condition\n",
    "from IPython.display import display, Image\n",
    "\n",
    "# Initialize memory\n",
    "memory = MemorySaver()\n",
    "\n",
    "# Build the workflow graph\n",
    "graph = StateGraph(State)\n",
    "\n",
    "# Add nodes\n",
    "graph.add_node(\"tool_calling_llm\", tool_calling_llm)\n",
    "graph.add_node(\"tools\", ToolNode(tools))\n",
    "\n",
    "# Add edges\n",
    "graph.add_edge(START, \"tool_calling_llm\")\n",
    "graph.add_conditional_edges(\n",
    "    \"tool_calling_llm\",\n",
    "    tools_condition,\n",
    ")\n",
    "graph.add_edge(\"tools\", \"tool_calling_llm\")\n",
    "\n",
    "# Compile the graph\n",
    "graphbuilder1 = graph.compile(checkpointer=memory)\n",
    "\n",
    "# Display the graph\n",
    "display(Image(graphbuilder1.get_graph().draw_mermaid_png()))\n",
    "\n",
    "\n",
    "# This approach preserves the full conversation history\n",
    "print(\"Alternative approach with conversation history:\")\n",
    "\n",
    "# Start fresh with a new thread\n",
    "config_new = {\"configurable\": {\"thread_id\": \"6\"}}\n",
    "\n",
    "# First message\n",
    "response1 = graphbuilder1.invoke(\n",
    "    {\n",
    "        \"messages\": [HumanMessage(content=\"Hi, my name is Engr Adil Hayat. Please remember this.\")]\n",
    "    },\n",
    "    config=config_new\n",
    ")\n",
    "\n",
    "print(\"First response:\")\n",
    "print(response1[\"messages\"][-1].content)\n",
    "print(\"\\n\" + \"-\"*30 + \"\\n\")\n",
    "\n",
    "# Second message - should remember the name\n",
    "response2 = graphbuilder1.invoke(\n",
    "    {\n",
    "        \"messages\": [HumanMessage(content=\"What is my name?\")]\n",
    "    },\n",
    "    config=config_new\n",
    ")\n",
    "\n",
    "print(\"Second response:\")\n",
    "print(response2[\"messages\"][-1].content)\n",
    "print(\"\\n\" + \"-\"*30 + \"\\n\")\n",
    "\n",
    "# You can also check the conversation history\n",
    "print(\"Full conversation history:\")\n",
    "for i, msg in enumerate(response2[\"messages\"]):\n",
    "    print(f\"Message {i+1} ({type(msg).__name__}): {msg.content}\")"
   ]
  },
  {
   "cell_type": "markdown",
   "id": "ec8fb264",
   "metadata": {},
   "source": [
    "## 🚀 Convert the Response to the Streaming Format\n",
    "\n",
    "## Streaming in LangGraph\n",
    "\n",
    "LangGraph provides **two methods for streaming results**:\n",
    "\n",
    "- `.stream()` → **sync streaming**\n",
    "- `.astream()` → **async streaming**\n",
    "\n",
    "---\n",
    "\n",
    "## Streaming Modes for Graph State\n",
    "\n",
    "You can control **what type of streaming data you receive** using:\n",
    "\n",
    "- `stream_mode=\"values\"`\n",
    "- `stream_mode=\"updates\"`\n",
    "\n",
    "---\n",
    "\n",
    "## What each mode means\n",
    "\n",
    "✅ **`values`:**\n",
    "\n",
    "- Streams the **full state of the graph after each node finishes**.\n",
    "- Shows **all data produced by the node** before moving to the next node.\n",
    "\n",
    "✅ **`updates`:**\n",
    "\n",
    "- Streams **partial updates to the graph’s state immediately after each node is called**.\n",
    "- Provides **finer-grained, faster updates** (e.g., partial tokens while an LLM generates or a tool call starts/finishes).\n"
   ]
  },
  {
   "cell_type": "code",
   "execution_count": 60,
   "id": "017bfc65",
   "metadata": {},
   "outputs": [
    {
     "name": "stdout",
     "output_type": "stream",
     "text": [
      "Second response (streaming - clean output):\n",
      "What is my name?"
     ]
    },
    {
     "name": "stdout",
     "output_type": "stream",
     "text": [
      "Your name is **Engr Adil Hayat**. How can I assist you today?\n",
      "------------------------------\n",
      "\n",
      "Second response (streaming - no duplicates):\n",
      "What is my name?\n",
      "------------------------------\n",
      "\n",
      "Second response (streaming - with processing steps):\n",
      "[tool_calling_llm]: Your name is **Engr Adil Hayat**. How can I assist you today?\n",
      "\n",
      "------------------------------\n",
      "\n",
      "Second response (streaming - word by word):\n",
      "What is my name? Your name is **Engr Adil Hayat**. How can I assist you today? \n",
      "------------------------------\n",
      "\n",
      "Second response (streaming - with typing effect):\n",
      "Assistant: s typing...What is my name?Your name is **Engr Adil Hayat**. How can I assist you today?\n",
      "------------------------------\n",
      "\n",
      "Second response (streaming - with error handling):\n",
      "What is my name?ngr Adil Hayat**. How can I assist you today?\n",
      "[Response completed: 61 characters]\n",
      "\n",
      "------------------------------\n",
      "\n",
      "Complete conversation example:\n",
      "User: My name is John Doe\n",
      "Assistant: My name is John DoeIt seems there might be some confusion earlier. Your name is **John Doe**. How can I assist you today?\n",
      "\n",
      "User: What is my name?\n",
      "Assistant: What is my name?It seems there might be some confusion earlier. Your name is **John Doe**. How can I assist you today?\n",
      "==================================================\n",
      "\n"
     ]
    }
   ],
   "source": [
    "import time\n",
    "# Method 1: Stream just the final response content\n",
    "print(\"Second response (streaming - clean output):\")\n",
    "for chunk in graphbuilder1.stream(\n",
    "    {\n",
    "        \"messages\": [HumanMessage(content=\"What is my name?\")]\n",
    "    },\n",
    "    config=config_new,\n",
    "    stream_mode=\"values\"\n",
    "):\n",
    "    # Get the latest message from the chunk\n",
    "    if \"messages\" in chunk and chunk[\"messages\"]:\n",
    "        latest_message = chunk[\"messages\"][-1]\n",
    "        # Only print if it's an AI message (response)\n",
    "        if hasattr(latest_message, 'content') and latest_message.content:\n",
    "            print(latest_message.content, end=\"\", flush=True)\n",
    "\n",
    "print(\"\\n\" + \"-\"*30 + \"\\n\")\n",
    "\n",
    "# Method 2: Stream with proper formatting and only show new content\n",
    "print(\"Second response (streaming - no duplicates):\")\n",
    "previous_content = \"\"\n",
    "for chunk in graphbuilder1.stream(\n",
    "    {\n",
    "        \"messages\": [HumanMessage(content=\"What is my name?\")]\n",
    "    },\n",
    "    config=config_new,\n",
    "    stream_mode=\"values\"\n",
    "):\n",
    "    if \"messages\" in chunk and chunk[\"messages\"]:\n",
    "        latest_message = chunk[\"messages\"][-1]\n",
    "        if hasattr(latest_message, 'content') and latest_message.content:\n",
    "            current_content = latest_message.content\n",
    "            # Only print new content (avoid duplicates)\n",
    "            if current_content != previous_content:\n",
    "                new_content = current_content[len(previous_content):]\n",
    "                print(new_content, end=\"\", flush=True)\n",
    "                previous_content = current_content\n",
    "\n",
    "print(\"\\n\" + \"-\"*30 + \"\\n\")\n",
    "\n",
    "# Method 3: Stream with updates mode (shows step-by-step processing)\n",
    "print(\"Second response (streaming - with processing steps):\")\n",
    "for chunk in graphbuilder1.stream(\n",
    "    {\n",
    "        \"messages\": [HumanMessage(content=\"What is my name?\")]\n",
    "    },\n",
    "    config=config_new,\n",
    "    stream_mode=\"updates\"\n",
    "):\n",
    "    for node_name, node_data in chunk.items():\n",
    "        if node_name == \"tool_calling_llm\" and \"messages\" in node_data:\n",
    "            latest_message = node_data[\"messages\"][-1]\n",
    "            if hasattr(latest_message, 'content') and latest_message.content:\n",
    "                print(f\"[{node_name}]: {latest_message.content}\")\n",
    "\n",
    "print(\"\\n\" + \"-\"*30 + \"\\n\")\n",
    "\n",
    "# Method 4: Stream word by word for better visual effect\n",
    "print(\"Second response (streaming - word by word):\")\n",
    "for chunk in graphbuilder1.stream(\n",
    "    {\n",
    "        \"messages\": [HumanMessage(content=\"What is my name?\")]\n",
    "    },\n",
    "    config=config_new,\n",
    "    stream_mode=\"values\"\n",
    "):\n",
    "    if \"messages\" in chunk and chunk[\"messages\"]:\n",
    "        latest_message = chunk[\"messages\"][-1]\n",
    "        if hasattr(latest_message, 'content') and latest_message.content:\n",
    "            # Split into words and print with small delay\n",
    "            words = latest_message.content.split()\n",
    "            for word in words:\n",
    "                print(word, end=\" \", flush=True)\n",
    "                time.sleep(0.1)  # Small delay between words\n",
    "\n",
    "print(\"\\n\" + \"-\"*30 + \"\\n\")\n",
    "\n",
    "# Method 5: Stream with typing indicator\n",
    "print(\"Second response (streaming - with typing effect):\")\n",
    "import time\n",
    "\n",
    "# Show typing indicator\n",
    "for i in range(3):\n",
    "    print(\"Assistant is typing\" + \".\" * (i + 1), end=\"\\r\", flush=True)\n",
    "    time.sleep(0.5)\n",
    "\n",
    "print(\"Assistant: \", end=\"\", flush=True)\n",
    "\n",
    "for chunk in graphbuilder1.stream(\n",
    "    {\n",
    "        \"messages\": [HumanMessage(content=\"What is my name?\")]\n",
    "    },\n",
    "    config=config_new,\n",
    "    stream_mode=\"values\"\n",
    "):\n",
    "    if \"messages\" in chunk and chunk[\"messages\"]:\n",
    "        latest_message = chunk[\"messages\"][-1]\n",
    "        if hasattr(latest_message, 'content') and latest_message.content:\n",
    "            # Character by character streaming\n",
    "            for char in latest_message.content:\n",
    "                print(char, end=\"\", flush=True)\n",
    "                time.sleep(0.03)  # Adjust speed as needed\n",
    "\n",
    "print(\"\\n\" + \"-\"*30 + \"\\n\")\n",
    "\n",
    "# Method 6: Stream with error handling and clean output\n",
    "print(\"Second response (streaming - with error handling):\")\n",
    "try:\n",
    "    response_text = \"\"\n",
    "    for chunk in graphbuilder1.stream(\n",
    "        {\n",
    "            \"messages\": [HumanMessage(content=\"What is my name?\")]\n",
    "        },\n",
    "        config=config_new,\n",
    "        stream_mode=\"values\"\n",
    "    ):\n",
    "        if \"messages\" in chunk and chunk[\"messages\"]:\n",
    "            latest_message = chunk[\"messages\"][-1]\n",
    "            if hasattr(latest_message, 'content') and latest_message.content:\n",
    "                current_content = latest_message.content\n",
    "                if current_content != response_text:\n",
    "                    # Print only the new part\n",
    "                    new_part = current_content[len(response_text):]\n",
    "                    print(new_part, end=\"\", flush=True)\n",
    "                    response_text = current_content\n",
    "    \n",
    "    print(f\"\\n[Response completed: {len(response_text)} characters]\")\n",
    "    \n",
    "except Exception as e:\n",
    "    print(f\"Error during streaming: {e}\")\n",
    "\n",
    "print(\"\\n\" + \"-\"*30 + \"\\n\")\n",
    "\n",
    "# Method 7: Complete conversation with streaming\n",
    "print(\"Complete conversation example:\")\n",
    "print(\"User: My name is John Doe\")\n",
    "print(\"Assistant: \", end=\"\", flush=True)\n",
    "\n",
    "# First message\n",
    "for chunk in graphbuilder1.stream(\n",
    "    {\n",
    "        \"messages\": [HumanMessage(content=\"My name is John Doe\")]\n",
    "    },\n",
    "    config=config_new,\n",
    "    stream_mode=\"values\"\n",
    "):\n",
    "    if \"messages\" in chunk and chunk[\"messages\"]:\n",
    "        latest_message = chunk[\"messages\"][-1]\n",
    "        if hasattr(latest_message, 'content') and latest_message.content:\n",
    "            print(latest_message.content, end=\"\", flush=True)\n",
    "\n",
    "print(\"\\n\")\n",
    "print(\"User: What is my name?\")\n",
    "print(\"Assistant: \", end=\"\", flush=True)\n",
    "\n",
    "# Second message - should remember the name\n",
    "for chunk in graphbuilder1.stream(\n",
    "    {\n",
    "        \"messages\": [HumanMessage(content=\"What is my name?\")]\n",
    "    },\n",
    "    config=config_new,\n",
    "    stream_mode=\"values\"\n",
    "):\n",
    "    if \"messages\" in chunk and chunk[\"messages\"]:\n",
    "        latest_message = chunk[\"messages\"][-1]\n",
    "        if hasattr(latest_message, 'content') and latest_message.content:\n",
    "            print(latest_message.content, end=\"\", flush=True)\n",
    "\n",
    "print(\"\\n\" + \"=\"*50 + \"\\n\")"
   ]
  }
 ],
 "metadata": {
  "kernelspec": {
   "display_name": "AGENTICLANGGRAPH",
   "language": "python",
   "name": "python3"
  },
  "language_info": {
   "codemirror_mode": {
    "name": "ipython",
    "version": 3
   },
   "file_extension": ".py",
   "mimetype": "text/x-python",
   "name": "python",
   "nbconvert_exporter": "python",
   "pygments_lexer": "ipython3",
   "version": "3.11.6"
  }
 },
 "nbformat": 4,
 "nbformat_minor": 5
}
